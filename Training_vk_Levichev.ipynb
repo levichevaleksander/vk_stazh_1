{
 "cells": [
  {
   "cell_type": "code",
   "execution_count": 1,
   "id": "d518570a-4a61-49b9-8340-488a9060cb6d",
   "metadata": {},
   "outputs": [],
   "source": [
    "from fastparquet import ParquetFile\n",
    "import matplotlib.pyplot as plt\n",
    "import numpy as np\n",
    "import pandas as pd\n",
    "from sklearn.model_selection import train_test_split\n",
    "from collections import Counter\n",
    "from sklearn.metrics import roc_auc_score, recall_score\n",
    "from sklearn.metrics import precision_recall_curve, auc\n",
    "import random"
   ]
  },
  {
   "cell_type": "code",
   "execution_count": 2,
   "id": "74988ca7-52a3-427f-97e5-c815de5bfca6",
   "metadata": {},
   "outputs": [],
   "source": [
    "pf_train = ParquetFile('train.parquet')\n",
    "df_train = pf_train.to_pandas()"
   ]
  },
  {
   "cell_type": "code",
   "execution_count": 3,
   "id": "26554e7b-7eed-48e0-8060-fa0fca00d310",
   "metadata": {},
   "outputs": [
    {
     "data": {
      "text/html": [
       "<div>\n",
       "<style scoped>\n",
       "    .dataframe tbody tr th:only-of-type {\n",
       "        vertical-align: middle;\n",
       "    }\n",
       "\n",
       "    .dataframe tbody tr th {\n",
       "        vertical-align: top;\n",
       "    }\n",
       "\n",
       "    .dataframe thead th {\n",
       "        text-align: right;\n",
       "    }\n",
       "</style>\n",
       "<table border=\"1\" class=\"dataframe\">\n",
       "  <thead>\n",
       "    <tr style=\"text-align: right;\">\n",
       "      <th></th>\n",
       "      <th>id</th>\n",
       "      <th>dates</th>\n",
       "      <th>values</th>\n",
       "      <th>label</th>\n",
       "    </tr>\n",
       "  </thead>\n",
       "  <tbody>\n",
       "    <tr>\n",
       "      <th>0</th>\n",
       "      <td>19114</td>\n",
       "      <td>[2016-01-01T00:00:00.000000000, 2016-02-01T00:...</td>\n",
       "      <td>[-1.86, 0.79, 1.4, 0.15, 0.0, -1.24, -1.46, 3....</td>\n",
       "      <td>0.0</td>\n",
       "    </tr>\n",
       "    <tr>\n",
       "      <th>1</th>\n",
       "      <td>22769</td>\n",
       "      <td>[2016-05-01T00:00:00.000000000, 2016-06-01T00:...</td>\n",
       "      <td>[-1.04, -3.48, 0.05, -0.13, -0.01, 0.03, 0.27,...</td>\n",
       "      <td>1.0</td>\n",
       "    </tr>\n",
       "    <tr>\n",
       "      <th>2</th>\n",
       "      <td>76935</td>\n",
       "      <td>[2017-03-01T00:00:00.000000000, 2017-04-01T00:...</td>\n",
       "      <td>[0.28, 0.63, 0.06, 0.96, -1.4, -0.3, 1.62, 1.1...</td>\n",
       "      <td>0.0</td>\n",
       "    </tr>\n",
       "    <tr>\n",
       "      <th>3</th>\n",
       "      <td>66297</td>\n",
       "      <td>[2016-01-01T00:00:00.000000000, 2016-02-01T00:...</td>\n",
       "      <td>[-0.33, 0.58, 1.1, -0.56, -0.95, -0.61, -0.7, ...</td>\n",
       "      <td>0.0</td>\n",
       "    </tr>\n",
       "    <tr>\n",
       "      <th>4</th>\n",
       "      <td>2191</td>\n",
       "      <td>[2016-01-01T00:00:00.000000000, 2016-02-01T00:...</td>\n",
       "      <td>[1.31, 0.5, -0.54, 0.95, 0.65, 0.83, -1.55, -0...</td>\n",
       "      <td>0.0</td>\n",
       "    </tr>\n",
       "    <tr>\n",
       "      <th>...</th>\n",
       "      <td>...</td>\n",
       "      <td>...</td>\n",
       "      <td>...</td>\n",
       "      <td>...</td>\n",
       "    </tr>\n",
       "    <tr>\n",
       "      <th>79995</th>\n",
       "      <td>71474</td>\n",
       "      <td>[2018-10-01T00:00:00.000000000, 2018-11-01T00:...</td>\n",
       "      <td>[-0.15, -1.13, -0.87, 0.49, 0.87, 1.67, 1.91, ...</td>\n",
       "      <td>0.0</td>\n",
       "    </tr>\n",
       "    <tr>\n",
       "      <th>79996</th>\n",
       "      <td>36908</td>\n",
       "      <td>[2016-07-01T00:00:00.000000000, 2016-08-01T00:...</td>\n",
       "      <td>[-0.35, -1.31, 0.11, 1.46, 1.28, 1.12, 1.78, 1...</td>\n",
       "      <td>1.0</td>\n",
       "    </tr>\n",
       "    <tr>\n",
       "      <th>79997</th>\n",
       "      <td>63517</td>\n",
       "      <td>[2016-03-01T00:00:00.000000000, 2016-04-01T00:...</td>\n",
       "      <td>[-0.78, -2.27, -1.85, -0.67, -1.2, -2.02, 0.12...</td>\n",
       "      <td>0.0</td>\n",
       "    </tr>\n",
       "    <tr>\n",
       "      <th>79998</th>\n",
       "      <td>94731</td>\n",
       "      <td>[2016-02-01T00:00:00.000000000, 2016-03-01T00:...</td>\n",
       "      <td>[-2.29, -2.85, 0.92, -0.83, -1.75, -1.81, -2.2...</td>\n",
       "      <td>0.0</td>\n",
       "    </tr>\n",
       "    <tr>\n",
       "      <th>79999</th>\n",
       "      <td>98870</td>\n",
       "      <td>[2016-01-01T00:00:00.000000000, 2016-02-01T00:...</td>\n",
       "      <td>[0.12, -0.8, 1.62, 0.11, -0.38, -0.86, -0.85, ...</td>\n",
       "      <td>1.0</td>\n",
       "    </tr>\n",
       "  </tbody>\n",
       "</table>\n",
       "<p>80000 rows × 4 columns</p>\n",
       "</div>"
      ],
      "text/plain": [
       "          id                                              dates  \\\n",
       "0      19114  [2016-01-01T00:00:00.000000000, 2016-02-01T00:...   \n",
       "1      22769  [2016-05-01T00:00:00.000000000, 2016-06-01T00:...   \n",
       "2      76935  [2017-03-01T00:00:00.000000000, 2017-04-01T00:...   \n",
       "3      66297  [2016-01-01T00:00:00.000000000, 2016-02-01T00:...   \n",
       "4       2191  [2016-01-01T00:00:00.000000000, 2016-02-01T00:...   \n",
       "...      ...                                                ...   \n",
       "79995  71474  [2018-10-01T00:00:00.000000000, 2018-11-01T00:...   \n",
       "79996  36908  [2016-07-01T00:00:00.000000000, 2016-08-01T00:...   \n",
       "79997  63517  [2016-03-01T00:00:00.000000000, 2016-04-01T00:...   \n",
       "79998  94731  [2016-02-01T00:00:00.000000000, 2016-03-01T00:...   \n",
       "79999  98870  [2016-01-01T00:00:00.000000000, 2016-02-01T00:...   \n",
       "\n",
       "                                                  values  label  \n",
       "0      [-1.86, 0.79, 1.4, 0.15, 0.0, -1.24, -1.46, 3....    0.0  \n",
       "1      [-1.04, -3.48, 0.05, -0.13, -0.01, 0.03, 0.27,...    1.0  \n",
       "2      [0.28, 0.63, 0.06, 0.96, -1.4, -0.3, 1.62, 1.1...    0.0  \n",
       "3      [-0.33, 0.58, 1.1, -0.56, -0.95, -0.61, -0.7, ...    0.0  \n",
       "4      [1.31, 0.5, -0.54, 0.95, 0.65, 0.83, -1.55, -0...    0.0  \n",
       "...                                                  ...    ...  \n",
       "79995  [-0.15, -1.13, -0.87, 0.49, 0.87, 1.67, 1.91, ...    0.0  \n",
       "79996  [-0.35, -1.31, 0.11, 1.46, 1.28, 1.12, 1.78, 1...    1.0  \n",
       "79997  [-0.78, -2.27, -1.85, -0.67, -1.2, -2.02, 0.12...    0.0  \n",
       "79998  [-2.29, -2.85, 0.92, -0.83, -1.75, -1.81, -2.2...    0.0  \n",
       "79999  [0.12, -0.8, 1.62, 0.11, -0.38, -0.86, -0.85, ...    1.0  \n",
       "\n",
       "[80000 rows x 4 columns]"
      ]
     },
     "execution_count": 3,
     "metadata": {},
     "output_type": "execute_result"
    }
   ],
   "source": [
    "df_train"
   ]
  },
  {
   "cell_type": "code",
   "execution_count": 4,
   "id": "ca19d0b2-f3d0-4ad7-9b02-17b978bd6b0f",
   "metadata": {},
   "outputs": [
    {
     "data": {
      "text/plain": [
       "True"
      ]
     },
     "execution_count": 4,
     "metadata": {},
     "output_type": "execute_result"
    }
   ],
   "source": [
    "None in df_train['values'][1979]"
   ]
  },
  {
   "cell_type": "markdown",
   "id": "67b2d302-6fa6-46d4-9a63-a3f5e6accce3",
   "metadata": {},
   "source": [
    "Убираю данные с пропусками"
   ]
  },
  {
   "cell_type": "code",
   "execution_count": 5,
   "id": "a8a7e623-f1e4-4f32-865e-446427386922",
   "metadata": {},
   "outputs": [],
   "source": [
    "list_of_indexes_with_nones = []\n",
    "for i in range(len(df_train['id'])):\n",
    "    if (None in df_train['values'][i]):\n",
    "        list_of_indexes_with_nones.append(i)\n",
    "\n",
    "df_train.drop(list_of_indexes_with_nones, inplace = True)\n",
    "df_train.reset_index(drop=True, inplace=True)"
   ]
  },
  {
   "cell_type": "code",
   "execution_count": 6,
   "id": "7be60fca-3bd8-4677-8123-377daad99949",
   "metadata": {},
   "outputs": [
    {
     "data": {
      "text/plain": [
       "<Figure size 640x480 with 0 Axes>"
      ]
     },
     "metadata": {},
     "output_type": "display_data"
    },
    {
     "data": {
      "image/png": "[encoded data removed]",
      "text/plain": [
       "<Figure size 1000x400 with 1 Axes>"
      ]
     },
     "metadata": {},
     "output_type": "display_data"
    }
   ],
   "source": [
    "plt.clf()\n",
    "plt.figure(figsize=(10, 4))\n",
    "plt.plot(df_train['dates'][22],df_train['values'][22])\n",
    "plt.show()"
   ]
  },
  {
   "cell_type": "code",
   "execution_count": 7,
   "id": "18d22951-be36-4ddf-94f8-cb2f6c019a20",
   "metadata": {},
   "outputs": [
    {
     "name": "stdout",
     "output_type": "stream",
     "text": [
      "dict_keys([1, 5, 3, 4, 12, 2, 11, 7, 10, 8, 9, 6])\n",
      "dict_values([50276, 2393, 3970, 3105, 1271, 8713, 1528, 1941, 1826, 1520, 1461, 1908])\n"
     ]
    }
   ],
   "source": [
    "first_months = []\n",
    "for i in range(len(df_train['id'])):\n",
    "    first_months.append(df_train['dates'][i][0])\n",
    "first_months = np.array(first_months).astype('datetime64[M]').astype(int) % 12 + 1\n",
    "\n",
    "print(Counter(first_months).keys()) # equals to list(set(words))\n",
    "print(Counter(first_months).values())"
   ]
  },
  {
   "cell_type": "markdown",
   "id": "f8b78df1-fbc6-4e5f-825c-f0c27faa9e55",
   "metadata": {},
   "source": [
    "Ряды, которые начинаются не с января дополняю слева средним значением."
   ]
  },
  {
   "cell_type": "code",
   "execution_count": 8,
   "id": "6b31a9a2-0123-41ce-a207-f260ab82eab4",
   "metadata": {},
   "outputs": [],
   "source": [
    "for i in range(len(df_train['id'])):\n",
    "    mean = np.array(df_train['values'][i]).mean()\n",
    "    for j in range(df_train['dates'][i][0].astype('datetime64[M]').astype(int) % 12):\n",
    "        df_train['values'][i].insert(0, mean)"
   ]
  },
  {
   "cell_type": "code",
   "execution_count": 9,
   "id": "bfad8cd9-3acd-48f5-9458-75393dac2b66",
   "metadata": {},
   "outputs": [
    {
     "data": {
      "text/plain": [
       "count    79912.000000\n",
       "mean        66.017357\n",
       "std         14.749180\n",
       "min         36.000000\n",
       "25%         54.000000\n",
       "50%         64.000000\n",
       "75%         77.000000\n",
       "max         97.000000\n",
       "dtype: float64"
      ]
     },
     "execution_count": 9,
     "metadata": {},
     "output_type": "execute_result"
    }
   ],
   "source": [
    "len_sequences = []\n",
    "for i in range(len(df_train['id'])):\n",
    "    len_sequences.append(len(df_train['values'][i]))\n",
    "pd.Series(len_sequences).describe()"
   ]
  },
  {
   "cell_type": "markdown",
   "id": "432a811b-dbf0-4c9b-ace8-8cee8bfab97f",
   "metadata": {},
   "source": [
    "Справа заполняю средним, чтобы размер всех рядов был 97"
   ]
  },
  {
   "cell_type": "code",
   "execution_count": 10,
   "id": "781ba3e0-4509-48de-8ddc-54ef4a4ec33a",
   "metadata": {},
   "outputs": [],
   "source": [
    "for i in range(len(df_train['id'])):\n",
    "    mean = np.array(df_train['values'][i]).mean()\n",
    "    add_length = 97 - len(df_train['values'][i])\n",
    "    df_train['values'][i].extend([mean for i in range(add_length)])"
   ]
  },
  {
   "cell_type": "code",
   "execution_count": 11,
   "id": "c68d30a4-7dfb-4558-b74a-0cf168ed6145",
   "metadata": {},
   "outputs": [
    {
     "data": {
      "text/plain": [
       "<Figure size 640x480 with 0 Axes>"
      ]
     },
     "metadata": {},
     "output_type": "display_data"
    },
    {
     "data": {
      "image/png": "[encoded data removed]",
      "text/plain": [
       "<Figure size 1000x400 with 1 Axes>"
      ]
     },
     "metadata": {},
     "output_type": "display_data"
    }
   ],
   "source": [
    "plt.clf()\n",
    "plt.figure(figsize=(10, 4))\n",
    "plt.plot(np.arange(len(df_train['values'][22])),df_train['values'][22])\n",
    "plt.show()"
   ]
  },
  {
   "cell_type": "code",
   "execution_count": 12,
   "id": "4dbe84e9-fd27-43f7-a7cc-180880fcf51a",
   "metadata": {},
   "outputs": [],
   "source": [
    "X = []\n",
    "y = []\n",
    "for i in range(len(df_train['values'])):\n",
    "    y.append((df_train['label'][i]))\n",
    "    X.append((df_train['values'][i]))"
   ]
  },
  {
   "cell_type": "code",
   "execution_count": 13,
   "id": "384da635-0ad6-4f1a-aaa6-0d7954544315",
   "metadata": {},
   "outputs": [],
   "source": [
    "X = np.array(X)\n",
    "y = np.array(y)"
   ]
  },
  {
   "cell_type": "markdown",
   "id": "490e172a-ee45-4ab8-8b7e-5199ce871d60",
   "metadata": {},
   "source": [
    "Тренировка"
   ]
  },
  {
   "cell_type": "code",
   "execution_count": 14,
   "id": "337c7e17-d28b-4541-b1a0-95718918ea7e",
   "metadata": {},
   "outputs": [],
   "source": [
    "from catboost import CatBoostClassifier"
   ]
  },
  {
   "cell_type": "code",
   "execution_count": 15,
   "id": "6315e170-9a90-4b68-b9ef-00efc986f326",
   "metadata": {},
   "outputs": [],
   "source": [
    "max_score_aucroc = 0.8216541790597093"
   ]
  },
  {
   "cell_type": "code",
   "execution_count": 16,
   "id": "1d6d5ecf-4d09-4d2f-91f9-1a8936b0fa64",
   "metadata": {},
   "outputs": [
    {
     "name": "stdout",
     "output_type": "stream",
     "text": [
      "dict_keys([0.0, 1.0])\n",
      "dict_values([57785, 22127])\n",
      "2.6115153432458085\n"
     ]
    }
   ],
   "source": [
    "print(Counter(y).keys()) # equals to list(set(words))\n",
    "print(Counter(y).values())\n",
    "print(57785/22127)"
   ]
  },
  {
   "cell_type": "code",
   "execution_count": 37,
   "id": "e7582ecc-5f5b-4886-85aa-58d5634313d9",
   "metadata": {},
   "outputs": [
    {
     "name": "stdout",
     "output_type": "stream",
     "text": [
      "Learning rate set to 0.020272\n",
      "0:\tlearn: 0.8026487\ttotal: 212ms\tremaining: 12m 22s\n",
      "700:\tlearn: 0.9270083\ttotal: 38.6s\tremaining: 2m 34s\n",
      "1400:\tlearn: 0.9647589\ttotal: 1m 17s\tremaining: 1m 56s\n",
      "2100:\tlearn: 0.9830991\ttotal: 1m 56s\tremaining: 1m 17s\n",
      "2800:\tlearn: 0.9923264\ttotal: 2m 35s\tremaining: 38.8s\n",
      "3499:\tlearn: 0.9967254\ttotal: 3m 14s\tremaining: 0us\n",
      "0.8022598029673503\n",
      "Learning rate set to 0.020272\n",
      "0:\tlearn: 0.8044344\ttotal: 55.6ms\tremaining: 3m 14s\n",
      "700:\tlearn: 0.9266826\ttotal: 39.4s\tremaining: 2m 37s\n",
      "1400:\tlearn: 0.9642366\ttotal: 1m 19s\tremaining: 1m 58s\n",
      "2100:\tlearn: 0.9826634\ttotal: 1m 58s\tremaining: 1m 19s\n",
      "2800:\tlearn: 0.9921440\ttotal: 2m 38s\tremaining: 39.5s\n",
      "3499:\tlearn: 0.9966141\ttotal: 3m 17s\tremaining: 0us\n",
      "0.8098761574924864\n",
      "Learning rate set to 0.020272\n",
      "0:\tlearn: 0.7971854\ttotal: 57ms\tremaining: 3m 19s\n",
      "700:\tlearn: 0.9274271\ttotal: 39.7s\tremaining: 2m 38s\n",
      "1400:\tlearn: 0.9646239\ttotal: 1m 19s\tremaining: 1m 58s\n",
      "2100:\tlearn: 0.9830214\ttotal: 1m 58s\tremaining: 1m 19s\n",
      "2800:\tlearn: 0.9923982\ttotal: 2m 38s\tremaining: 39.5s\n",
      "3499:\tlearn: 0.9967800\ttotal: 3m 17s\tremaining: 0us\n",
      "0.8058088676691212\n",
      "Learning rate set to 0.020272\n",
      "0:\tlearn: 0.8039447\ttotal: 55.7ms\tremaining: 3m 14s\n",
      "700:\tlearn: 0.9276101\ttotal: 40s\tremaining: 2m 39s\n",
      "1400:\tlearn: 0.9646765\ttotal: 1m 19s\tremaining: 1m 59s\n",
      "2100:\tlearn: 0.9829606\ttotal: 1m 59s\tremaining: 1m 19s\n",
      "2800:\tlearn: 0.9922376\ttotal: 2m 39s\tremaining: 39.8s\n",
      "3499:\tlearn: 0.9967388\ttotal: 3m 19s\tremaining: 0us\n",
      "0.8085958854339963\n",
      "Learning rate set to 0.020272\n",
      "0:\tlearn: 0.7970345\ttotal: 65.3ms\tremaining: 3m 48s\n",
      "700:\tlearn: 0.9281924\ttotal: 40.6s\tremaining: 2m 42s\n",
      "1400:\tlearn: 0.9649709\ttotal: 1m 21s\tremaining: 2m 1s\n",
      "2100:\tlearn: 0.9831495\ttotal: 2m 1s\tremaining: 1m 21s\n",
      "2800:\tlearn: 0.9924252\ttotal: 2m 42s\tremaining: 40.5s\n",
      "3499:\tlearn: 0.9967603\ttotal: 3m 22s\tremaining: 0us\n",
      "0.7990921134308965\n",
      "Learning rate set to 0.020272\n",
      "0:\tlearn: 0.8083418\ttotal: 55.9ms\tremaining: 3m 15s\n",
      "700:\tlearn: 0.9280891\ttotal: 40.8s\tremaining: 2m 42s\n",
      "1400:\tlearn: 0.9653071\ttotal: 1m 21s\tremaining: 2m 2s\n",
      "2100:\tlearn: 0.9831475\ttotal: 2m 2s\tremaining: 1m 21s\n",
      "2800:\tlearn: 0.9923445\ttotal: 2m 42s\tremaining: 40.6s\n",
      "3499:\tlearn: 0.9967129\ttotal: 3m 23s\tremaining: 0us\n",
      "0.8041607472912959\n",
      "Learning rate set to 0.020272\n",
      "0:\tlearn: 0.7964934\ttotal: 59.9ms\tremaining: 3m 29s\n",
      "700:\tlearn: 0.9284740\ttotal: 41.4s\tremaining: 2m 45s\n",
      "1400:\tlearn: 0.9652094\ttotal: 1m 22s\tremaining: 2m 3s\n",
      "2100:\tlearn: 0.9832060\ttotal: 2m 3s\tremaining: 1m 22s\n",
      "2800:\tlearn: 0.9923086\ttotal: 2m 44s\tremaining: 40.9s\n",
      "3499:\tlearn: 0.9966659\ttotal: 3m 25s\tremaining: 0us\n",
      "0.7952041928647541\n",
      "Learning rate set to 0.020272\n",
      "0:\tlearn: 0.7993874\ttotal: 60.2ms\tremaining: 3m 30s\n",
      "700:\tlearn: 0.9274449\ttotal: 42s\tremaining: 2m 47s\n",
      "1400:\tlearn: 0.9646086\ttotal: 1m 24s\tremaining: 2m 6s\n",
      "2100:\tlearn: 0.9828789\ttotal: 2m 5s\tremaining: 1m 23s\n",
      "2800:\tlearn: 0.9921405\ttotal: 2m 47s\tremaining: 41.7s\n",
      "3499:\tlearn: 0.9966285\ttotal: 3m 28s\tremaining: 0us\n",
      "new record =  0.8254385035751735\n",
      "Learning rate set to 0.020272\n",
      "0:\tlearn: 0.8054043\ttotal: 59.2ms\tremaining: 3m 27s\n",
      "700:\tlearn: 0.9293778\ttotal: 41.4s\tremaining: 2m 45s\n",
      "1400:\tlearn: 0.9658759\ttotal: 1m 22s\tremaining: 2m 3s\n",
      "2100:\tlearn: 0.9839690\ttotal: 2m 3s\tremaining: 1m 22s\n",
      "2800:\tlearn: 0.9929729\ttotal: 2m 45s\tremaining: 41.2s\n",
      "3499:\tlearn: 0.9970647\ttotal: 3m 26s\tremaining: 0us\n",
      "0.8039400177634684\n",
      "Learning rate set to 0.020272\n",
      "0:\tlearn: 0.8052057\ttotal: 59.8ms\tremaining: 3m 29s\n",
      "700:\tlearn: 0.9284382\ttotal: 41.7s\tremaining: 2m 46s\n",
      "1400:\tlearn: 0.9645471\ttotal: 1m 23s\tremaining: 2m 5s\n",
      "2100:\tlearn: 0.9829504\ttotal: 2m 5s\tremaining: 1m 23s\n",
      "2800:\tlearn: 0.9922224\ttotal: 2m 46s\tremaining: 41.7s\n",
      "3499:\tlearn: 0.9966639\ttotal: 3m 28s\tremaining: 0us\n",
      "0.8155488747172327\n"
     ]
    }
   ],
   "source": [
    "for i in range(10):\n",
    "    X_train, X_test, y_train, y_test = train_test_split(X, y, test_size = 0.1, random_state = random.randint(1,100))\n",
    "    params = {\n",
    "        'iterations': 3500,\n",
    "        #'learning_rate': 0.015,\n",
    "        'depth': 9,\n",
    "        'loss_function': 'Logloss',\n",
    "        'eval_metric': 'PRAUC',\n",
    "        'early_stopping_rounds': 80,\n",
    "        'verbose': 700,\n",
    "        'scale_pos_weight': 2.52 + 0.01 * i,\n",
    "        'random_seed': 78 - i\n",
    "    }\n",
    "    model = CatBoostClassifier(**params)\n",
    "    model.fit(X_train, y_train)\n",
    "    \n",
    "    y_pred = model.predict_proba(X_test).T[1]\n",
    "\n",
    "    precision, recall, _ = precision_recall_curve(y_test, y_pred)\n",
    "\n",
    "    \n",
    "    if (auc(recall, precision) > max_score_aucroc):\n",
    "        max_score_aucroc = auc(recall, precision)\n",
    "        print(\"new record = \",max_score_aucroc)\n",
    "        model.save_model('model_for_vk_v4')\n",
    "    else:\n",
    "        print(auc(recall, precision))"
   ]
  },
  {
   "cell_type": "code",
   "execution_count": 47,
   "id": "bcc4a3b2-6129-4718-8009-c39edaa6e1af",
   "metadata": {},
   "outputs": [
    {
     "name": "stdout",
     "output_type": "stream",
     "text": [
      "0.8254385035751735\n"
     ]
    }
   ],
   "source": [
    "print(max_score_aucroc)"
   ]
  }
 ],
 "metadata": {
  "kernelspec": {
   "display_name": "Python 3 (ipykernel)",
   "language": "python",
   "name": "python3"
  },
  "language_info": {
   "codemirror_mode": {
    "name": "ipython",
    "version": 3
   },
   "file_extension": ".py",
   "mimetype": "text/x-python",
   "name": "python",
   "nbconvert_exporter": "python",
   "pygments_lexer": "ipython3",
   "version": "3.10.13"
  }
 },
 "nbformat": 4,
 "nbformat_minor": 5
}
